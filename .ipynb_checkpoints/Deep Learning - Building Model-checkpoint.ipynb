{
 "cells": [
  {
   "cell_type": "code",
   "execution_count": 66,
   "metadata": {
    "collapsed": false,
    "scrolled": true
   },
   "outputs": [
    {
     "data": {
      "text/plain": [
       "array([ 1.,  0.,  0.,  0.,  0.])"
      ]
     },
     "execution_count": 66,
     "metadata": {},
     "output_type": "execute_result"
    }
   ],
   "source": [
    "# StepI : 準備資料\n",
    "# In : X_train\n",
    "# Output: Y_train\n",
    "from keras.utils import np_utils\n",
    "import numpy as np\n",
    "my_data = np.genfromtxt (\"pkgo_city66_class5_v1.csv\",delimiter=\",\",skip_header=1)\n",
    "\n",
    "x_train= my_data[:,0:200]\n",
    "#Output 是第201 個欄位(index 為200)\n",
    "y_train= my_data[:,200]\n",
    "\n",
    "# 確保資料型態正確\n",
    "X_train = x_train.astype(\"float32\")\n",
    "Y_train = y_train.astype(\"int\")\n",
    "\n",
    "# [重要] 將Output 從特定類別轉換成one-hot encoding 的形式\n",
    "\n",
    "Y_train= np_utils.to_categorical(Y_train,5)\n",
    "# 轉換成one-hot encoding 後的Y_train\n",
    "print(Y_train[1,:])"
   ]
  },
  {
   "cell_type": "code",
   "execution_count": null,
   "metadata": {
    "collapsed": true
   },
   "outputs": [],
   "source": []
  },
  {
   "cell_type": "code",
   "execution_count": 84,
   "metadata": {
    "collapsed": true
   },
   "outputs": [
    {
     "name": "stdout",
     "output_type": "stream",
     "text": [
      "_________________________________________________________________\n",
      "Layer (type)                 Output Shape              Param #   \n",
      "=================================================================\n",
      "1st_hidden_layer (Dense)     (None, 128)               25728     \n",
      "_________________________________________________________________\n",
      "activation_10 (Activation)   (None, 128)               0         \n",
      "_________________________________________________________________\n",
      "2nd_hidden_layer (Dense)     (None, 256)               33024     \n",
      "_________________________________________________________________\n",
      "activation_11 (Activation)   (None, 256)               0         \n",
      "_________________________________________________________________\n",
      "output (Dense)               (None, 5)                 1285      \n",
      "_________________________________________________________________\n",
      "activation_12 (Activation)   (None, 5)                 0         \n",
      "=================================================================\n",
      "Total params: 60,037\n",
      "Trainable params: 60,037\n",
      "Non-trainable params: 0\n",
      "_________________________________________________________________\n"
     ]
    }
   ],
   "source": [
    "# 先來個 model\n",
    "from keras.models import Sequential\n",
    "from keras.layers.core import Dense, Activation\n",
    "from keras.optimizers import SGD\n",
    "\n",
    "# 1.  layer 用 add 一層層疊入\n",
    "# 2. 128 為 指定 neurons\n",
    "\n",
    "model = Sequential()\n",
    "\n",
    "# 1st hidden layer 需代入 input vector dim\n",
    "model.add(Dense(128 , input_dim=200 , name=\"1st_hidden_layer\"))\n",
    "# 加入 activation function\n",
    "model.add(Activation(\"sigmoid\"))\n",
    "\n",
    "# 2nd  hidden layer\n",
    "model.add(Dense(256, name=\"2nd_hidden_layer\"))\n",
    "model.add(Activation(\"sigmoid\"))\n",
    "\n",
    "# Output layer (5 neurons)\n",
    "model.add(Dense(5, name=\"output\"))\n",
    "model.add(Activation(\"softmax\"))\n",
    "\n",
    "# 觀察 model summary\n",
    "model.summary()"
   ]
  },
  {
   "cell_type": "code",
   "execution_count": 62,
   "metadata": {
    "collapsed": false,
    "scrolled": true
   },
   "outputs": [
    {
     "data": {
      "text/plain": [
       "array([ 1.,  0.,  0.,  0.,  0.])"
      ]
     },
     "execution_count": 62,
     "metadata": {},
     "output_type": "execute_result"
    }
   ],
   "source": [
    "再來個 optimizer"
   ]
  },
  {
   "cell_type": "code",
   "execution_count": null,
   "metadata": {
    "collapsed": true
   },
   "outputs": [],
   "source": []
  },
  {
   "cell_type": "code",
   "execution_count": null,
   "metadata": {
    "collapsed": true
   },
   "outputs": [],
   "source": []
  },
  {
   "cell_type": "code",
   "execution_count": null,
   "metadata": {
    "collapsed": true
   },
   "outputs": [],
   "source": []
  },
  {
   "cell_type": "code",
   "execution_count": null,
   "metadata": {
    "collapsed": true
   },
   "outputs": [],
   "source": []
  }
 ],
 "metadata": {
  "kernelspec": {
   "display_name": "Python 3",
   "language": "python",
   "name": "python3"
  },
  "language_info": {
   "codemirror_mode": {
    "name": "ipython",
    "version": 3
   },
   "file_extension": ".py",
   "mimetype": "text/x-python",
   "name": "python",
   "nbconvert_exporter": "python",
   "pygments_lexer": "ipython3",
   "version": "3.6.0"
  }
 },
 "nbformat": 4,
 "nbformat_minor": 2
}
