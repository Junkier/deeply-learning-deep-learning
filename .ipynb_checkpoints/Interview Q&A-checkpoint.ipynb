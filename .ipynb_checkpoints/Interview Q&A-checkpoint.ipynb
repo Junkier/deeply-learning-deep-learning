{
 "cells": [
  {
   "cell_type": "code",
   "execution_count": 63,
   "metadata": {
    "collapsed": false
   },
   "outputs": [
    {
     "ename": "SyntaxError",
     "evalue": "invalid syntax (<ipython-input-63-1bdd2513d879>, line 39)",
     "output_type": "error",
     "traceback": [
      "\u001b[0;36m  File \u001b[0;32m\"<ipython-input-63-1bdd2513d879>\"\u001b[0;36m, line \u001b[0;32m39\u001b[0m\n\u001b[0;31m    Step II\u001b[0m\n\u001b[0m          ^\u001b[0m\n\u001b[0;31mSyntaxError\u001b[0m\u001b[0;31m:\u001b[0m invalid syntax\n"
     ]
    }
   ],
   "source": [
    "# Step I \n",
    "# 1) debug#1\n",
    "class Pet:\n",
    "    def __init__(self,name,age,voice):\n",
    "        self.name = name\n",
    "        self.age = age\n",
    "        self.voice = voice\n",
    "        self.personality =  \"good\"\n",
    "        \n",
    "    def make_sound(self):\n",
    "        print(\"I'm \", self.name , \"-\", self.voice)\n",
    "    \n",
    "def tiny_test_1():\n",
    "    cat1 = Pet(\"big Fo\",5,\"meow~\")\n",
    "    cat2 = Pet(\"little Yu\" , 6 ,\"holo holo ~\")\n",
    "\n",
    "    cat2.personality = \"bad\"\n",
    "    cat3 = cat1\n",
    "    cat3.name = \"big QQ\"\n",
    "\n",
    "    cat1.make_sound()\n",
    "    cat2.make_sound()\n",
    "    cat3.make_sound()\n",
    "\n",
    "    print(cat3.personality)\n",
    "    print(cat2.personality)\n",
    "    \n",
    "# 請問 print 訊息為何 \n",
    "#     I'm  big QQ - meow~\n",
    "#     I'm  little Yu - holo holo ~\n",
    "#     I'm  big QQ - meow~\n",
    "#     good\n",
    "#     bad\n",
    "\n",
    "# 2) debug#2\n",
    "def tiny_test_2():\n",
    "    a = 100\n",
    "    b = 20\n",
    "    a = b\n",
    "    b +=15\n",
    "    ###########################################################\n",
    "    c = {\"num\":102}\n",
    "    d = {\"num\":14}\n",
    "    c = d\n",
    "    d[\"num\"] += 15\n",
    "    ###########################################################\n",
    "    e = [170,150,17]\n",
    "    f = [70,50,20]\n",
    "    g = [5,10,15]\n",
    "    e[1] = f[2]\n",
    "    g = f\n",
    "    f[1] -=50\n",
    "    f[2] += 10\n",
    "    ###########################################################\n",
    "    print(\"a :\",a)\n",
    "    print(\"b :\",b)\n",
    "    print(\"c.num :\",c[\"num\"])\n",
    "    print(\"d.num :\",d[\"num\"])\n",
    "    print(\"e[1] :\", e[1])\n",
    "    print(\"g[1] :\", g[1])\n",
    "    \n",
    "# 請問 print 訊息為何 \n",
    "#     a : 20\n",
    "#     b : 35\n",
    "#     c.num : 29\n",
    "#     d.num : 29\n",
    "#     e[1] : 20\n",
    "#     g[1] : 0\n",
    "\n",
    "# 3) tiny func.\n",
    "#    f(n) = 1-2+3-4+5-6+...+n\n",
    "def tiny_func(n):\n",
    "    return -1*(n//2) if n%2 ==0 else (n+1)//2\n",
    "\n",
    "# Step II\n",
    "# medium func.\n",
    "# 1)  reverse string\n",
    "# 2)  repeated number\n",
    "def reverse_string(s , by_word = True):\n",
    "    # a) by word    b) by digit\n",
    "    words = list(s) if by_word else s.split(\" \")\n",
    "    words.reverse()\n",
    "    merger = \"\" if by_word else \" \"\n",
    "    return merger.join(words)\n",
    "\n",
    "def get_repeated_num(arr):\n",
    "    result = []\n",
    "    repeated = {}\n",
    "    for n in arr:\n",
    "        str_n = str(n)\n",
    "        if str_n  in repeated: \n",
    "            repeated[str_n] +=1\n",
    "            if repeated[str_n] >=2 and n not in result:\n",
    "                result.append(n)\n",
    "        else:\n",
    "            repeated[str_n] = 1\n",
    "    result.sort()\n",
    "    return result\n",
    "\n",
    "\n",
    "Step III\n",
    "# Fibonacci sequence\n",
    "\n",
    "\n",
    "Step IV\n",
    "# 1) Water pool\n",
    "# 2) Monte Carlo method\n",
    "\n",
    "Step V\n",
    "# 1) Giant mathemetical sequence\n",
    "# 2) quadkey to rocal key."
   ]
  },
  {
   "cell_type": "code",
   "execution_count": null,
   "metadata": {
    "collapsed": true
   },
   "outputs": [],
   "source": []
  },
  {
   "cell_type": "code",
   "execution_count": null,
   "metadata": {
    "collapsed": true
   },
   "outputs": [],
   "source": [
    "\n",
    "\n",
    "\n",
    "\n"
   ]
  },
  {
   "cell_type": "code",
   "execution_count": null,
   "metadata": {
    "collapsed": true
   },
   "outputs": [],
   "source": [
    "Fibonacci"
   ]
  },
  {
   "cell_type": "code",
   "execution_count": null,
   "metadata": {
    "collapsed": true
   },
   "outputs": [],
   "source": [
    "class Fibonacci:\n",
    "\n",
    "    def get_sequence_number(self,n):\n",
    "    \n",
    "    def is_Fibonacci_number(self,n):\n",
    "        "
   ]
  },
  {
   "cell_type": "code",
   "execution_count": 150,
   "metadata": {
    "collapsed": true
   },
   "outputs": [],
   "source": [
    "def Q1(n):\n",
    "    if n ==1 or n == 2:\n",
    "        return 1\n",
    "    else :\n",
    "        return Q1(n-1)+Q1(n-2)"
   ]
  },
  {
   "cell_type": "code",
   "execution_count": 165,
   "metadata": {
    "collapsed": false
   },
   "outputs": [
    {
     "data": {
      "text/plain": [
       "9227465"
      ]
     },
     "execution_count": 165,
     "metadata": {},
     "output_type": "execute_result"
    }
   ],
   "source": [
    "Q1(35)"
   ]
  },
  {
   "cell_type": "code",
   "execution_count": 175,
   "metadata": {
    "collapsed": true
   },
   "outputs": [],
   "source": [
    "def Q1_loop(n):\n",
    "    if n== 1 or n==2:\n",
    "        return 1\n",
    "    n1 , n2 = 1, 1\n",
    "    for i in range(n-2):\n",
    "        r = n2 + n1\n",
    "        n1 = n2\n",
    "        n2 = r\n",
    "    return r"
   ]
  },
  {
   "cell_type": "code",
   "execution_count": 178,
   "metadata": {
    "collapsed": false
   },
   "outputs": [
    {
     "data": {
      "text/plain": [
       "2584"
      ]
     },
     "execution_count": 178,
     "metadata": {},
     "output_type": "execute_result"
    }
   ],
   "source": [
    "Q1_loop(18)"
   ]
  },
  {
   "cell_type": "code",
   "execution_count": 196,
   "metadata": {
    "collapsed": false
   },
   "outputs": [
    {
     "name": "stdout",
     "output_type": "stream",
     "text": [
      "a : 20\n",
      "b : 35\n",
      "c.num : 29\n",
      "d.num : 29\n",
      "e[1] : 20\n",
      "g[1] : 0\n"
     ]
    }
   ],
   "source": [
    "\n",
    "\n"
   ]
  },
  {
   "cell_type": "code",
   "execution_count": 197,
   "metadata": {
    "collapsed": false
   },
   "outputs": [],
   "source": [
    "class Pet:\n",
    "    def __init__(self,name,age,voice):\n",
    "        self.name = name\n",
    "        self.age = age\n",
    "        self.voice = voice\n",
    "        self.personality =  \"good\"\n",
    "        \n",
    "    def make_sound(self):\n",
    "        print(\"I'm \", self.name , \"-\", self.voice)\n",
    "    \n",
    "def tiny_test_1():\n",
    "    cat1 = Pet(\"big Fo\",5,\"meow~\")\n",
    "    cat2 = Pet(\"little Yu\" , 6 ,\"holo holo ~\")\n",
    "\n",
    "    cat2.personality = \"bad\"\n",
    "    cat3 = cat1\n",
    "    cat3.name = \"big QQ\"\n",
    "\n",
    "    cat1.make_sound()\n",
    "    cat2.make_sound()\n",
    "    cat3.make_sound()\n",
    "\n",
    "    print(cat3.personality)\n",
    "    print(cat2.personality)"
   ]
  },
  {
   "cell_type": "code",
   "execution_count": 198,
   "metadata": {
    "collapsed": false
   },
   "outputs": [
    {
     "name": "stdout",
     "output_type": "stream",
     "text": [
      "I'm  big QQ - meow~\n",
      "I'm  little Yu - holo holo ~\n",
      "I'm  big QQ - meow~\n",
      "good\n",
      "bad\n"
     ]
    }
   ],
   "source": [
    "tiny_test_1()"
   ]
  },
  {
   "cell_type": "code",
   "execution_count": 188,
   "metadata": {
    "collapsed": false
   },
   "outputs": [
    {
     "name": "stdout",
     "output_type": "stream",
     "text": [
      "34\n",
      "14\n"
     ]
    }
   ],
   "source": [
    "e = [100]\n",
    "f = [14]\n",
    "e[0] = f[0]\n",
    "e[0] +=20\n",
    "print(e[0])\n",
    "print(f[0])"
   ]
  }
 ],
 "metadata": {
  "kernelspec": {
   "display_name": "Python 3",
   "language": "python",
   "name": "python3"
  },
  "language_info": {
   "codemirror_mode": {
    "name": "ipython",
    "version": 3
   },
   "file_extension": ".py",
   "mimetype": "text/x-python",
   "name": "python",
   "nbconvert_exporter": "python",
   "pygments_lexer": "ipython3",
   "version": "3.6.0"
  }
 },
 "nbformat": 4,
 "nbformat_minor": 2
}
