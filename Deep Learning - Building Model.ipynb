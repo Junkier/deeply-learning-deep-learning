{
 "cells": [
  {
   "cell_type": "code",
   "execution_count": 105,
   "metadata": {
    "collapsed": false,
    "scrolled": true
   },
   "outputs": [
    {
     "name": "stdout",
     "output_type": "stream",
     "text": [
      "[ 1.  0.  0.  0.  0.]\n"
     ]
    }
   ],
   "source": [
    "# StepI : 準備資料\n",
    "# In : X_train\n",
    "# Output: Y_train\n",
    "from keras.utils import np_utils\n",
    "from sklearn.utils import shuffle\n",
    "import numpy as np\n",
    "np.random.seed(1337)\n",
    "my_data = np.genfromtxt (\"pkgo_city66_class5_v1.csv\",delimiter=\",\",skip_header=1)\n",
    "\n",
    "\n",
    "x_train= my_data[:,0:200]\n",
    "#Output 是第201 個欄位(index 為200)\n",
    "y_train= my_data[:,200]\n",
    "\n",
    "# 確保資料型態正確\n",
    "X_train = x_train.astype(\"float32\")\n",
    "Y_train = y_train.astype(\"int\")\n",
    "\n",
    "# [重要] 將Output 從特定類別轉換成one-hot encoding 的形式\n",
    "\n",
    "Y_train= np_utils.to_categorical(Y_train,5)\n",
    "# 轉換成one-hot encoding 後的Y_train\n",
    "print(Y_train[1,:])\n",
    "\n",
    "\n",
    "X_train,Y_train = shuffle(X_train,Y_train,random_state=100)"
   ]
  },
  {
   "cell_type": "code",
   "execution_count": 107,
   "metadata": {
    "collapsed": false,
    "scrolled": false
   },
   "outputs": [],
   "source": [
    "# Step II : Modeling\n",
    "# 先來個 model\n",
    "from keras.models import Sequential\n",
    "from keras.layers.core import Dense, Activation\n",
    "\n",
    "# 1.  layer 用 add 一層層疊入\n",
    "# 2. 128 為 指定 neurons\n",
    "\n",
    "model = Sequential()\n",
    "\n",
    "# 1st hidden layer 需代入 input vector dim\n",
    "model.add(Dense(128 , input_dim=200 , name=\"1st_hidden_layer\"))\n",
    "# 加入 activation function\n",
    "model.add(Activation(\"sigmoid\"))\n",
    "\n",
    "# 2nd  hidden layer\n",
    "model.add(Dense(256, name=\"2nd_hidden_layer\"))\n",
    "model.add(Activation(\"sigmoid\"))\n",
    "\n",
    "# Output layer (5 neurons)\n",
    "model.add(Dense(5, name=\"output\"))\n",
    "model.add(Activation(\"softmax\"))\n",
    "\n",
    "# 觀察 model summary\n",
    "# model.summary()\n",
    "\n",
    "# 再來個 optimizer\n",
    "from keras.optimizers import SGD\n",
    "sgd = SGD(lr = 0.01 , momentum =0.0 ,decay = 0.0 ,nesterov=False)\n",
    "\n",
    "# 指定 loss function & optimizer\n",
    "model.compile(loss = \"categorical_crossentropy\" , optimizer=sgd , metrics=['accuracy'])"
   ]
  },
  {
   "cell_type": "code",
   "execution_count": null,
   "metadata": {
    "collapsed": true
   },
   "outputs": [],
   "source": [
    "# 亦可用 functional API 的方式 建 Model\n",
    "from keras.layers import Input, Dense\n",
    "from keras.models import Model\n",
    "input_qq = Input(shape=(200,))\n",
    "x = Dense(128,activation='sigmoid')(input_qq)\n",
    "x = Dense(256,activation='sigmoid')(x)\n",
    "output_qq = Dense(5,activation='softmax')(x)\n",
    "\n",
    "# 定義 Model (function-based)\n",
    "model_qq = Model(inputs=[input_qq],outputs=[output_qq]) "
   ]
  },
  {
   "cell_type": "code",
   "execution_count": 110,
   "metadata": {
    "collapsed": false,
    "scrolled": true
   },
   "outputs": [
    {
     "name": "stdout",
     "output_type": "stream",
     "text": [
      "Result saved into 01_firstModel.png\n"
     ]
    }
   ],
   "source": [
    "# Training Model !!!\n",
    "import matplotlib.pyplot as plt\n",
    "cnt = \"01\"\n",
    "pic_name = \"{}_firstModel.png\".format(cnt)\n",
    "history = model.fit(X_train,Y_train , batch_size=16,verbose=0 , epochs=30,shuffle=True,validation_split=0.1)\n",
    "\n",
    "loss_ce = history.history.get('loss')\n",
    "acc_ce  = history.history.get('acc')\n",
    "\n",
    "plt.figure(0,figsize=(8,6))\n",
    "plt.subplot(121)\n",
    "plt.plot(range(len(loss_ce)), loss_ce,label='CE')\n",
    "plt.title('Loss')\n",
    "plt.legend(loc='upper left')\n",
    "plt.subplot(122)\n",
    "plt.plot(range(len(acc_ce)), acc_ce,label='CE')\n",
    "plt.title('Accuracy')\n",
    "plt.xlabel('epoch')\n",
    "plt.savefig(pic_name,dpi=300,format='png')\n",
    "plt.close()\n",
    "print('Result saved into {}'.format(pic_name))"
   ]
  },
  {
   "cell_type": "code",
   "execution_count": null,
   "metadata": {
    "collapsed": true
   },
   "outputs": [],
   "source": []
  },
  {
   "cell_type": "code",
   "execution_count": null,
   "metadata": {
    "collapsed": true
   },
   "outputs": [],
   "source": []
  },
  {
   "cell_type": "code",
   "execution_count": null,
   "metadata": {
    "collapsed": true
   },
   "outputs": [],
   "source": []
  },
  {
   "cell_type": "code",
   "execution_count": null,
   "metadata": {
    "collapsed": true
   },
   "outputs": [],
   "source": []
  },
  {
   "cell_type": "code",
   "execution_count": null,
   "metadata": {
    "collapsed": true
   },
   "outputs": [],
   "source": []
  },
  {
   "cell_type": "code",
   "execution_count": null,
   "metadata": {
    "collapsed": true
   },
   "outputs": [],
   "source": []
  }
 ],
 "metadata": {
  "kernelspec": {
   "display_name": "Python 3",
   "language": "python",
   "name": "python3"
  },
  "language_info": {
   "codemirror_mode": {
    "name": "ipython",
    "version": 3
   },
   "file_extension": ".py",
   "mimetype": "text/x-python",
   "name": "python",
   "nbconvert_exporter": "python",
   "pygments_lexer": "ipython3",
   "version": "3.6.0"
  }
 },
 "nbformat": 4,
 "nbformat_minor": 2
}
