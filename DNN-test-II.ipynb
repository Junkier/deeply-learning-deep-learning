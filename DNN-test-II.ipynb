{
 "cells": [
  {
   "cell_type": "code",
   "execution_count": 40,
   "metadata": {
    "collapsed": false
   },
   "outputs": [
    {
     "name": "stdout",
     "output_type": "stream",
     "text": [
      "Import data is done.\n"
     ]
    }
   ],
   "source": [
    "# StepI : 準備資料\n",
    "# In : X_train\n",
    "# Output: Y_train\n",
    "from keras.utils import np_utils\n",
    "from sklearn.utils import shuffle\n",
    "import numpy as np\n",
    "np.random.seed(1337)\n",
    "my_data = np.genfromtxt (\"pkgo_city66_class5_v1.csv\",delimiter=\",\",skip_header=1)\n",
    "\n",
    "\n",
    "x_train= my_data[:,0:200]\n",
    "#Output 是第201 個欄位(index 為200)\n",
    "y_train= my_data[:,200]\n",
    "\n",
    "# 確保資料型態正確\n",
    "X_train = x_train.astype(\"float32\")\n",
    "Y_train = y_train.astype(\"int\")\n",
    "\n",
    "# [重要] 將Output 從特定類別轉換成one-hot encoding 的形式\n",
    "\n",
    "Y_train= np_utils.to_categorical(Y_train,5)\n",
    "# 轉換成one-hot encoding 後的Y_train\n",
    "# print(Y_train[1,:])\n",
    "\n",
    "\n",
    "X_train,Y_train = shuffle(X_train,Y_train,random_state=100)\n",
    "print(\"Import data is done.\")"
   ]
  },
  {
   "cell_type": "code",
   "execution_count": null,
   "metadata": {
    "collapsed": true
   },
   "outputs": [],
   "source": []
  },
  {
   "cell_type": "code",
   "execution_count": null,
   "metadata": {
    "collapsed": true
   },
   "outputs": [],
   "source": [
    "from keras.layers.core import Dropout\n",
    "model = Sequential()\n",
    "# 加入第一層hidden layer 與dropout=0.4\n",
    "model.add(Dense(128, input_dim=200))\n",
    "model.add(Activation('relu'))\n",
    "model.add(Dropout(0.4))\n",
    "#加入第二層hidden layer 與dropout=0.4\n",
    "model.add(Dense(256))\n",
    "model.add(Activation('relu'))\n",
    "model.add(Dropout(0.4))\n",
    "#加入output layer(5neurons)\n",
    "model.add(Dense(5))\n",
    "model.add(Activation('softmax'))"
   ]
  },
  {
   "cell_type": "code",
   "execution_count": null,
   "metadata": {
    "collapsed": true
   },
   "outputs": [],
   "source": []
  },
  {
   "cell_type": "code",
   "execution_count": 61,
   "metadata": {
    "collapsed": false
   },
   "outputs": [],
   "source": [
    "from keras.models import Sequential\n",
    "from keras.layers.core import Dense, Activation\n",
    "from keras.layers.core import Dropout\n",
    "\n",
    "model_adam = Sequential()\n",
    "model_adam.add(Dense(128, input_dim=200))\n",
    "model_adam.add(Activation('relu'))\n",
    "model_adam.add(Dropout(0.4))\n",
    "\n",
    "model_adam.add(Dense(256))\n",
    "model_adam.add(Activation(\"relu\"))\n",
    "model_adam.add(Dropout(0.4))\n",
    "\n",
    "\n",
    "model_adam.add(Dense(5))\n",
    "model_adam.add(Activation(\"softmax\"))\n",
    "\n",
    "model_adam.compile(loss= 'categorical_crossentropy',optimizer='Adam',metrics=['accuracy'])\n",
    "\n",
    "history_adam = model_adam.fit(X_train, Y_train,batch_size=batch_size,epochs=epochs,verbose=0,shuffle=True,validation_split=0.1)\n",
    "\n",
    "\n",
    "loss_adam= history_adam.history.get('loss')\n",
    "acc_adam = history_adam.history.get('acc')\n",
    "val_loss_adam = history_adam.history.get('val_loss')\n",
    "val_acc_adam = history_adam.history.get('val_acc')\n",
    "\n",
    "# val_loss = validation_loss"
   ]
  },
  {
   "cell_type": "code",
   "execution_count": 62,
   "metadata": {
    "collapsed": false
   },
   "outputs": [
    {
     "name": "stdout",
     "output_type": "stream",
     "text": [
      "Result saved into 08_dropout.png\n"
     ]
    }
   ],
   "source": [
    "import matplotlib.pyplot as plt\n",
    "plt.figure(0,figsize=(8,6))\n",
    "plt.subplot(121)\n",
    "plt.plot(range(len(loss_adam)), loss_adam,label='Training')\n",
    "plt.plot(range(len(val_loss_adam)), val_loss_adam,label='Validation')\n",
    "plt.title('Loss')\n",
    "plt.xlabel(\"epoch\")\n",
    "plt.legend(loc='upper left')\n",
    "plt.subplot(122)\n",
    "plt.plot(range(len(acc_adam)), acc_adam,label='Training')\n",
    "plt.plot(range(len(val_acc_adam)), val_acc_adam,label='Validation')\n",
    "plt.title('Accuracy')\n",
    "plt.xlabel(\"epoch\")\n",
    "plt.tight_layout()\n",
    "plt.savefig('08_dropout.png',dpi=300,format='png')\n",
    "plt.close()\n",
    "print('Result saved into 08_dropout.png')"
   ]
  },
  {
   "cell_type": "code",
   "execution_count": null,
   "metadata": {
    "collapsed": true
   },
   "outputs": [],
   "source": []
  },
  {
   "cell_type": "code",
   "execution_count": null,
   "metadata": {
    "collapsed": true
   },
   "outputs": [],
   "source": []
  },
  {
   "cell_type": "code",
   "execution_count": null,
   "metadata": {
    "collapsed": true
   },
   "outputs": [],
   "source": []
  },
  {
   "cell_type": "code",
   "execution_count": null,
   "metadata": {
    "collapsed": true
   },
   "outputs": [],
   "source": []
  },
  {
   "cell_type": "code",
   "execution_count": null,
   "metadata": {
    "collapsed": true
   },
   "outputs": [],
   "source": []
  },
  {
   "cell_type": "code",
   "execution_count": null,
   "metadata": {
    "collapsed": true
   },
   "outputs": [],
   "source": []
  }
 ],
 "metadata": {
  "kernelspec": {
   "display_name": "Python 3",
   "language": "python",
   "name": "python3"
  },
  "language_info": {
   "codemirror_mode": {
    "name": "ipython",
    "version": 3
   },
   "file_extension": ".py",
   "mimetype": "text/x-python",
   "name": "python",
   "nbconvert_exporter": "python",
   "pygments_lexer": "ipython3",
   "version": "3.6.0"
  }
 },
 "nbformat": 4,
 "nbformat_minor": 2
}
